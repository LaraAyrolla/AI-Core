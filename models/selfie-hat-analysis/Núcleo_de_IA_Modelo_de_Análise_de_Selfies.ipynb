{
  "nbformat": 4,
  "nbformat_minor": 0,
  "metadata": {
    "colab": {
      "provenance": [],
      "authorship_tag": "ABX9TyO22nUzaCaadwOJE/QQ3ngJ",
      "include_colab_link": true
    },
    "kernelspec": {
      "name": "python3",
      "display_name": "Python 3"
    },
    "language_info": {
      "name": "python"
    }
  },
  "cells": [
    {
      "cell_type": "markdown",
      "metadata": {
        "id": "view-in-github",
        "colab_type": "text"
      },
      "source": [
        "<a href=\"https://colab.research.google.com/github/LaraAyrolla/AI-Core/blob/main/models/selfie-hat-analysis/N%C3%BAcleo_de_IA_Modelo_de_An%C3%A1lise_de_Selfies.ipynb\" target=\"_parent\"><img src=\"https://colab.research.google.com/assets/colab-badge.svg\" alt=\"Open In Colab\"/></a>"
      ]
    },
    {
      "cell_type": "markdown",
      "source": [
        "## **Visão Computacional - Modelo de Análise de Selfies Com Chapéu**\n",
        "\n",
        "### **Nova seção**\n",
        "\n",
        "*   Com chapéu (1)\n",
        "*   Sem chapéu (0)"
      ],
      "metadata": {
        "id": "ipBgeHnOiRUr"
      }
    },
    {
      "cell_type": "code",
      "metadata": {
        "id": "FrnWvfOm0YBY"
      },
      "source": [
        "# Imports\n",
        "import cv2\n",
        "from tensorflow.keras import regularizers\n",
        "from tensorflow.keras.layers import Conv2D, MaxPooling2D, Flatten, Dense, Dropout\n",
        "from tensorflow.keras.models import Sequential\n",
        "from tensorflow.keras.preprocessing.image import ImageDataGenerator, img_to_array\n",
        "import matplotlib.pyplot as plt\n",
        "import numpy as np\n",
        "import os\n",
        "from sklearn.metrics import accuracy_score, precision_score, recall_score, f1_score, confusion_matrix, cohen_kappa_score, roc_auc_score\n",
        "from sklearn.model_selection import train_test_split"
      ],
      "execution_count": 1,
      "outputs": []
    },
    {
      "cell_type": "code",
      "source": [
        "# Função para carregar as imagens e ajustar o tamanho delas\n",
        "def load_images_from_folder(folder):\n",
        "    images = []\n",
        "    for filename in os.listdir(folder):\n",
        "        img = cv2.imread(os.path.join(folder, filename))\n",
        "        if img is not None:\n",
        "            img = cv2.resize(img, (224, 224))\n",
        "            img = img_to_array(img)\n",
        "            img = img / 255.0\n",
        "            images.append(img)\n",
        "    return np.array(images)"
      ],
      "metadata": {
        "id": "Rz8hhrwuFBej"
      },
      "execution_count": 2,
      "outputs": []
    },
    {
      "cell_type": "code",
      "source": [
        "# Carregar as imagens e definir o valor atribuído a elas para o modelo (0 ou 1)\n",
        "hat_dir = '/content/hat'\n",
        "hat_images = load_images_from_folder(hat_dir)\n",
        "hat_labels = np.ones(len(hat_images))\n",
        "\n",
        "no_hat_dir = '/content/no_hat'\n",
        "no_hat_images = load_images_from_folder(no_hat_dir)\n",
        "no_hat_labels = np.zeros(len(no_hat_images))"
      ],
      "metadata": {
        "id": "KzjfBuHzFBoe"
      },
      "execution_count": 3,
      "outputs": []
    },
    {
      "cell_type": "code",
      "source": [
        "# Juntar as imagens e valores atribuídos das duas metades da base de dados\n",
        "X = np.concatenate((hat_images, no_hat_images))\n",
        "Y = np.concatenate((hat_labels, no_hat_labels))"
      ],
      "metadata": {
        "id": "nWBVyG7CF2k7"
      },
      "execution_count": 4,
      "outputs": []
    },
    {
      "cell_type": "code",
      "source": [
        "# Separar os dados para treino e para teste\n",
        "xtrain, xtest, ytrain, ytest = train_test_split(X, Y, test_size=0.2)"
      ],
      "metadata": {
        "id": "4S_NxaZDF2o6"
      },
      "execution_count": 5,
      "outputs": []
    },
    {
      "cell_type": "code",
      "source": [
        "# Arquitetura do modelo\n",
        "model = Sequential()\n",
        "model.add(Conv2D(32, (3, 3), activation='relu', input_shape=(224, 224, 3)))\n",
        "model.add(MaxPooling2D((2, 2)))\n",
        "model.add(Flatten())\n",
        "model.add(Dense(30, activation='relu'))\n",
        "model.add(Dropout(0.2))\n",
        "model.add(Dense(1, activation='sigmoid'))"
      ],
      "metadata": {
        "id": "gtAwpuIIFtmo"
      },
      "execution_count": 6,
      "outputs": []
    },
    {
      "cell_type": "code",
      "source": [
        "# Compilação do modelo\n",
        "model.compile(optimizer='adam', loss='binary_crossentropy', metrics=['accuracy'])"
      ],
      "metadata": {
        "id": "pA1wcdzMGxsl"
      },
      "execution_count": 7,
      "outputs": []
    },
    {
      "cell_type": "code",
      "source": [
        "# Alterar as imagens para aumentar e diversificar a base e aplicar aos dados de treino\n",
        "datagen = ImageDataGenerator(\n",
        "    rotation_range=20,\n",
        "    width_shift_range=0.2,\n",
        "    height_shift_range=0.2,\n",
        "    horizontal_flip=False\n",
        ")\n",
        "\n",
        "datagen.fit(xtrain)"
      ],
      "metadata": {
        "id": "XyWMDVlUG2Oo"
      },
      "execution_count": 8,
      "outputs": []
    },
    {
      "cell_type": "code",
      "source": [
        "# Treino do modelo\n",
        "history = model.fit(datagen.flow(xtrain, ytrain, batch_size=32), validation_data=(xtest, ytest), epochs=25, verbose=1)"
      ],
      "metadata": {
        "colab": {
          "base_uri": "https://localhost:8080/"
        },
        "id": "nAA8B02SHRc6",
        "outputId": "65e1b25b-2fc0-4b23-b18a-97e9dccb3869"
      },
      "execution_count": 9,
      "outputs": [
        {
          "output_type": "stream",
          "name": "stdout",
          "text": [
            "Epoch 1/25\n",
            "1/1 [==============================] - 4s 4s/step - loss: 0.6598 - accuracy: 0.6250 - val_loss: 28.8121 - val_accuracy: 0.5000\n",
            "Epoch 2/25\n",
            "1/1 [==============================] - 1s 1s/step - loss: 29.1529 - accuracy: 0.5000 - val_loss: 8.5583 - val_accuracy: 0.5000\n",
            "Epoch 3/25\n",
            "1/1 [==============================] - 3s 3s/step - loss: 9.9043 - accuracy: 0.5000 - val_loss: 1.7297 - val_accuracy: 0.5000\n",
            "Epoch 4/25\n",
            "1/1 [==============================] - 1s 1s/step - loss: 1.7865 - accuracy: 0.3750 - val_loss: 0.6931 - val_accuracy: 0.5000\n",
            "Epoch 5/25\n",
            "1/1 [==============================] - 1s 1s/step - loss: 0.6931 - accuracy: 0.5000 - val_loss: 0.6931 - val_accuracy: 0.5000\n",
            "Epoch 6/25\n",
            "1/1 [==============================] - 1s 1s/step - loss: 0.6927 - accuracy: 0.5000 - val_loss: 0.9919 - val_accuracy: 0.5000\n",
            "Epoch 7/25\n",
            "1/1 [==============================] - 1s 1s/step - loss: 0.8187 - accuracy: 0.6250 - val_loss: 5.0147 - val_accuracy: 0.5000\n",
            "Epoch 8/25\n",
            "1/1 [==============================] - 1s 1s/step - loss: 4.8326 - accuracy: 0.5000 - val_loss: 4.5740 - val_accuracy: 0.5000\n",
            "Epoch 9/25\n",
            "1/1 [==============================] - 1s 1s/step - loss: 3.7177 - accuracy: 0.5000 - val_loss: 0.7464 - val_accuracy: 0.5000\n",
            "Epoch 10/25\n",
            "1/1 [==============================] - 1s 1s/step - loss: 1.5949 - accuracy: 0.6250 - val_loss: 2.2948 - val_accuracy: 0.5000\n",
            "Epoch 11/25\n",
            "1/1 [==============================] - 1s 1s/step - loss: 2.3416 - accuracy: 0.3750 - val_loss: 1.5169 - val_accuracy: 0.5000\n",
            "Epoch 12/25\n",
            "1/1 [==============================] - 1s 1s/step - loss: 1.3850 - accuracy: 0.5000 - val_loss: 0.6931 - val_accuracy: 0.5000\n",
            "Epoch 13/25\n",
            "1/1 [==============================] - 1s 894ms/step - loss: 0.6343 - accuracy: 0.7500 - val_loss: 0.6931 - val_accuracy: 0.5000\n",
            "Epoch 14/25\n",
            "1/1 [==============================] - 1s 594ms/step - loss: 0.6923 - accuracy: 0.6250 - val_loss: 0.6931 - val_accuracy: 0.5000\n",
            "Epoch 15/25\n",
            "1/1 [==============================] - 1s 524ms/step - loss: 0.6931 - accuracy: 0.5000 - val_loss: 0.6931 - val_accuracy: 0.5000\n",
            "Epoch 16/25\n",
            "1/1 [==============================] - 1s 588ms/step - loss: 0.6931 - accuracy: 0.5000 - val_loss: 0.6932 - val_accuracy: 0.5000\n",
            "Epoch 17/25\n",
            "1/1 [==============================] - 1s 583ms/step - loss: 0.6932 - accuracy: 0.5000 - val_loss: 0.6932 - val_accuracy: 0.5000\n",
            "Epoch 18/25\n",
            "1/1 [==============================] - 1s 549ms/step - loss: 0.6931 - accuracy: 0.5000 - val_loss: 2.0402 - val_accuracy: 0.5000\n",
            "Epoch 19/25\n",
            "1/1 [==============================] - 1s 654ms/step - loss: 2.3815 - accuracy: 0.5000 - val_loss: 0.7085 - val_accuracy: 0.5000\n",
            "Epoch 20/25\n",
            "1/1 [==============================] - 1s 538ms/step - loss: 0.7471 - accuracy: 0.5000 - val_loss: 0.6932 - val_accuracy: 0.5000\n",
            "Epoch 21/25\n",
            "1/1 [==============================] - 1s 544ms/step - loss: 0.6932 - accuracy: 0.5000 - val_loss: 0.6932 - val_accuracy: 0.5000\n",
            "Epoch 22/25\n",
            "1/1 [==============================] - 1s 584ms/step - loss: 0.6928 - accuracy: 0.5000 - val_loss: 0.9077 - val_accuracy: 0.5000\n",
            "Epoch 23/25\n",
            "1/1 [==============================] - 1s 573ms/step - loss: 1.0941 - accuracy: 0.5000 - val_loss: 0.6922 - val_accuracy: 0.5000\n",
            "Epoch 24/25\n",
            "1/1 [==============================] - 1s 571ms/step - loss: 0.6865 - accuracy: 0.6250 - val_loss: 2.1109 - val_accuracy: 0.5000\n",
            "Epoch 25/25\n",
            "1/1 [==============================] - 1s 604ms/step - loss: 1.3668 - accuracy: 0.7500 - val_loss: 2.6727 - val_accuracy: 0.5000\n"
          ]
        }
      ]
    },
    {
      "cell_type": "code",
      "metadata": {
        "id": "lPnFHWdLApXQ",
        "colab": {
          "base_uri": "https://localhost:8080/",
          "height": 270
        },
        "outputId": "2a65eadf-06a5-4083-eaa6-d566783cc18b"
      },
      "source": [
        "plt.subplot(211)\n",
        "plt.title('Grafico de Custo')\n",
        "plt.plot(history.history['loss'],label= 'Perdas durante o treinamento')\n",
        "plt.plot(history.history['val_loss'],label= 'Perdas durante os testes')\n",
        "plt.xlabel('Epocas')\n",
        "plt.ylabel('Perdas')\n",
        "plt.legend()\n",
        "plt.show()"
      ],
      "execution_count": 10,
      "outputs": [
        {
          "output_type": "display_data",
          "data": {
            "text/plain": [
              "<Figure size 640x480 with 1 Axes>"
            ],
            "image/png": "[encoded data removed]"
          },
          "metadata": {}
        }
      ]
    },
    {
      "cell_type": "code",
      "source": [
        "plt.subplot(212)\n",
        "plt.title('Grafico de Desempenho')\n",
        "plt.plot(history.history['accuracy'],label= 'Desempenho durante o treinamento')\n",
        "plt.plot(history.history['val_accuracy'],label= 'Desempenho durante os testes')\n",
        "plt.xlabel('Epocas')\n",
        "plt.ylabel('Perdas')\n",
        "plt.legend()\n",
        "plt.show()"
      ],
      "metadata": {
        "id": "dFRbBWUNmptq",
        "colab": {
          "base_uri": "https://localhost:8080/",
          "height": 270
        },
        "outputId": "1c48525d-3e93-4323-c30c-1aad67804e4d"
      },
      "execution_count": 11,
      "outputs": [
        {
          "output_type": "display_data",
          "data": {
            "text/plain": [
              "<Figure size 640x480 with 1 Axes>"
            ],
            "image/png": "[encoded data removed]"
          },
          "metadata": {}
        }
      ]
    },
    {
      "cell_type": "code",
      "source": [
        "# Probabilidades previstas durante os testes\n",
        "predicted = model.predict(xtest, verbose=0)\n",
        "predicted"
      ],
      "metadata": {
        "id": "UeX3vKD2xJX9",
        "colab": {
          "base_uri": "https://localhost:8080/"
        },
        "outputId": "21bb457b-73f1-4442-991f-0dbaef3b023c"
      },
      "execution_count": 12,
      "outputs": [
        {
          "output_type": "execute_result",
          "data": {
            "text/plain": [
              "array([[0.99954796],\n",
              "       [0.99522746]], dtype=float32)"
            ]
          },
          "metadata": {},
          "execution_count": 12
        }
      ]
    },
    {
      "cell_type": "code",
      "source": [
        "# Matriz de confusão\n",
        "\n",
        "print(confusion_matrix(ytest.astype(int), predicted.round().astype(int)))"
      ],
      "metadata": {
        "id": "Wb76LoIXzZoC",
        "colab": {
          "base_uri": "https://localhost:8080/"
        },
        "outputId": "e9362424-6413-42fd-a8d2-421ce736caed"
      },
      "execution_count": 13,
      "outputs": [
        {
          "output_type": "stream",
          "name": "stdout",
          "text": [
            "[[0 1]\n",
            " [0 1]]\n"
          ]
        }
      ]
    },
    {
      "cell_type": "code",
      "source": [
        "# ROC AUC\n",
        "auc = roc_auc_score(ytest, predicted)\n",
        "print('ROC AUC: %f' % auc)\n"
      ],
      "metadata": {
        "id": "4gx2zX71xGFi",
        "colab": {
          "base_uri": "https://localhost:8080/"
        },
        "outputId": "90ebf9a9-090b-4e2b-b1fb-0d715c9491c3"
      },
      "execution_count": 14,
      "outputs": [
        {
          "output_type": "stream",
          "name": "stdout",
          "text": [
            "ROC AUC: 1.000000\n"
          ]
        }
      ]
    },
    {
      "cell_type": "code",
      "source": [
        "# Previsões arredondadas\n",
        "predicted = predicted.round()"
      ],
      "metadata": {
        "id": "SZSfnsuKWbqF"
      },
      "execution_count": 15,
      "outputs": []
    },
    {
      "cell_type": "code",
      "source": [
        "# Métricas finais\n",
        "print(\"Valores reais: \", ytest)\n",
        "print(\"Valores previstos pela RNA: \", predicted)\n",
        "\n",
        "print('\\nAccuracy: {:.2f}\\n'.format(accuracy_score(ytest, predicted)))\n",
        "\n",
        "print('Precision: {:.2f}'.format(precision_score(ytest, predicted, average='micro', zero_division=0)))\n",
        "print('Recall: {:.2f}'.format(recall_score(ytest, predicted, average='micro', zero_division=0)))\n",
        "print('F1-score: {:.2f}\\n'.format(f1_score(ytest, predicted, average='micro', zero_division=0)))\n",
        "\n",
        "#relatório com métricas de testes do modelo\n",
        "from sklearn.metrics import classification_report\n",
        "print('\\nRelatório de classificação\\n')\n",
        "print(classification_report(ytest, predicted, target_names=['Com Chapéu', 'Sem Chapéu'], zero_division=0))"
      ],
      "metadata": {
        "id": "zH2TFrl5VYs2",
        "colab": {
          "base_uri": "https://localhost:8080/"
        },
        "outputId": "ba70b72e-fc89-4c55-ae38-0c1fa8e660b8"
      },
      "execution_count": 16,
      "outputs": [
        {
          "output_type": "stream",
          "name": "stdout",
          "text": [
            "Valores reais:  [1. 0.]\n",
            "Valores previstos pela RNA:  [[1.]\n",
            " [1.]]\n",
            "\n",
            "Accuracy: 0.50\n",
            "\n",
            "Precision: 0.50\n",
            "Recall: 0.50\n",
            "F1-score: 0.50\n",
            "\n",
            "\n",
            "Relatório de classificação\n",
            "\n",
            "              precision    recall  f1-score   support\n",
            "\n",
            "  Com Chapéu       0.00      0.00      0.00         1\n",
            "  Sem Chapéu       0.50      1.00      0.67         1\n",
            "\n",
            "    accuracy                           0.50         2\n",
            "   macro avg       0.25      0.50      0.33         2\n",
            "weighted avg       0.25      0.50      0.33         2\n",
            "\n"
          ]
        }
      ]
    }
  ]
}